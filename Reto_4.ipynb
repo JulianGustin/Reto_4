{
 "cells": [
  {
   "cell_type": "markdown",
   "metadata": {},
   "source": [
    "# Reto #4 programación de computadores\n",
    "\n",
    "## Resolver los siguientes problemas usando un notebook de python y subirlos a un repo.\n",
    "\n",
    "1. [Dado un número entero, determinar si ese número corresponde al código ASCII de una vocal minúscula.](#minusculas)\n",
    "\n",
    "2. [Dada una cadena de longitud 1, determine si el código ASCII de primera letra de la cadena es par o no.](#par-o-no)\n",
    "\n",
    "3. [Dado un carácter, construya un programa en Python para determinar si el carácter es un dígito o no.](#digito-o-no)\n",
    "\n",
    "4. [Dado un número real x, construya un programa que permita determinar si el número es positivo, negativo o cero. Para cada caso de debe imprimir el texto que se especifica a continuación:](#positivo-negativo-o-cero)\n",
    "\n",
    "- Positivo: \"El número x es positivo\"\n",
    "- Negativo: \"El número x es negativo\"\n",
    "- Cero (0): \"El número x es el neutro para la suma\"\n",
    "\n",
    "5. [Dado el centro y el radio de un círculo, determinar si un punto de R2 pertenece o no al interior del círculo.](#circulo)\n",
    "\n",
    "6. [Dadas tres longitudes positivas, determinar si con esas longitudes se puede construir un triángulo.](#triangulo)\n",
    "\n",
    "\n",
    "\n",
    "***"
   ]
  },
  {
   "cell_type": "markdown",
   "metadata": {},
   "source": [
    "## Minusculas"
   ]
  },
  {
   "cell_type": "code",
   "execution_count": null,
   "metadata": {},
   "outputs": [],
   "source": [
    "numeroEntero = int((input(\"Ingrese un número entero: \")))\n",
    "if numeroEntero == 97 or numeroEntero == 101 or numeroEntero == 105 or numeroEntero == 111 or  numeroEntero == 117: \n",
    "    print(\"El código ASCII \", numeroEntero, \" corresponde a la vocal minuscula\", chr(numeroEntero))\n",
    "else: \n",
    "    print(\"El código ASCII \", numeroEntero, \" no corresponde a una vocal minuscula\")\n"
   ]
  },
  {
   "cell_type": "markdown",
   "metadata": {},
   "source": [
    "***\n",
    "\n",
    "## Par o no"
   ]
  },
  {
   "cell_type": "code",
   "execution_count": null,
   "metadata": {},
   "outputs": [],
   "source": [
    "caracter : str = input(\"Ingrese un carácter: \")\n",
    "codigo_ASCII = ord(caracter)\n",
    "modulo = codigo_ASCII%2 \n",
    "if modulo == 0: \n",
    "    print(\"El código ASCII de su caracter es par\")\n",
    "else: \n",
    "    print(\"El código ASCII de su caracter no es par\")"
   ]
  },
  {
   "cell_type": "markdown",
   "metadata": {},
   "source": [
    "***\n",
    "\n",
    "# Digito o no"
   ]
  },
  {
   "cell_type": "code",
   "execution_count": 9,
   "metadata": {},
   "outputs": [
    {
     "name": "stdout",
     "output_type": "stream",
     "text": [
      "El caracter que ingreso es un digito\n"
     ]
    }
   ],
   "source": [
    "caracter_d = input(\"Ingrese un caracter: \")\n",
    "\n",
    "if ord(caracter_d) >=48 and ord(caracter_d) <= 57 :\n",
    "    print(\"El caracter que ingreso es un digito\")\n",
    "else: \n",
    "    print(\"El caracter que ingreso no es un digito\")\n",
    "\n"
   ]
  },
  {
   "cell_type": "markdown",
   "metadata": {},
   "source": [
    "*** \n",
    "\n",
    "## Positivo, negativo o cero"
   ]
  },
  {
   "cell_type": "code",
   "execution_count": null,
   "metadata": {},
   "outputs": [],
   "source": [
    "numero = float((input(\"Ingrese un número real: \")))\n",
    "if numero > 0: \n",
    "    print(\"El número \", numero ,\"es positivo\")\n",
    "elif numero < 0: \n",
    "    print(\"El número \", numero, \"es negativo\")\n",
    "else: \n",
    "    print(\"El número \", numero, \"es el neutro para la suma\")"
   ]
  },
  {
   "cell_type": "markdown",
   "metadata": {},
   "source": [
    "*** \n",
    "\n",
    "## Circulo"
   ]
  },
  {
   "cell_type": "code",
   "execution_count": 39,
   "metadata": {},
   "outputs": [
    {
     "name": "stdout",
     "output_type": "stream",
     "text": [
      "El punto no esta dentro del circulo.\n"
     ]
    }
   ],
   "source": [
    "centro_x = float(input(\"Ingrese la coordenada x del centro del circulo: \"))\n",
    "centro_y = float(input(\"Ingrese la coordenada y del centro del circulo: \"))\n",
    "radio = float(input(\"Ingrese el radio del circulo: \"))\n",
    "\n",
    "R2_x = float(input(\"Ingrese la coordenada x del punto: \"))\n",
    "R2_y = float(input(\"Ingrese la coordenada y del punto: \"))\n",
    "\n",
    "distancia = (R2_x - centro_x) ** 2 + (R2_y- centro_y) ** 2\n",
    "\n",
    "if distancia < (radio ** 2):\n",
    "    print(\"El punto esta dentro del circulo.\")\n",
    "else:\n",
    "    print(\"El punto no esta dentro del circulo.\")"
   ]
  },
  {
   "cell_type": "markdown",
   "metadata": {},
   "source": [
    "***  \n",
    "\n",
    "## Triangulo "
   ]
  },
  {
   "cell_type": "code",
   "execution_count": 41,
   "metadata": {},
   "outputs": [
    {
     "name": "stdout",
     "output_type": "stream",
     "text": [
      " No se puede construir un triangulo con las longitgudes  5.0 3.0 1.0\n"
     ]
    }
   ],
   "source": [
    "a = float(input(\"Ingrese la longitud 1: \"))\n",
    "b = float(input(\"Ingrese la longitud 2: \"))\n",
    "c = float(input(\"Ingrese la longitud 3: \"))\n",
    "\n",
    "if a + b > c and a + c > b and b + c > a: \n",
    "    print(\"Se puede construir un triangulo con las longitgudes \", a, b, c)\n",
    "else: \n",
    "    print(\" No se puede construir un triangulo con las longitgudes \", a, b, c)"
   ]
  }
 ],
 "metadata": {
  "kernelspec": {
   "display_name": "Python 3",
   "language": "python",
   "name": "python3"
  },
  "language_info": {
   "codemirror_mode": {
    "name": "ipython",
    "version": 3
   },
   "file_extension": ".py",
   "mimetype": "text/x-python",
   "name": "python",
   "nbconvert_exporter": "python",
   "pygments_lexer": "ipython3",
   "version": "3.12.2"
  }
 },
 "nbformat": 4,
 "nbformat_minor": 2
}
